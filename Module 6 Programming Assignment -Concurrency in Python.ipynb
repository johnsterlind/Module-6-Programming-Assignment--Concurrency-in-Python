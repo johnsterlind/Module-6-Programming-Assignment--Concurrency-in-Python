{
 "cells": [
  {
   "cell_type": "markdown",
   "id": "a59d3452-64b0-409f-b855-4b16993fc56f",
   "metadata": {},
   "source": [
    "This code writes the current date to a text file named today.txt using Python’s datetime module."
   ]
  },
  {
   "cell_type": "code",
   "execution_count": 1,
   "id": "df78a610-d0ac-4b86-a72c-5fd66540556e",
   "metadata": {},
   "outputs": [
    {
     "name": "stdout",
     "output_type": "stream",
     "text": [
      "Current date written to today.txt: 2024-11-24\n"
     ]
    }
   ],
   "source": [
    "from datetime import date\n",
    "\n",
    "# Get the current date\n",
    "current_date = date.today()\n",
    "\n",
    "# Write the current date to a file\n",
    "with open(\"today.txt\", \"w\") as file:\n",
    "    file.write(current_date.isoformat())\n",
    "\n",
    "print(f\"Current date written to today.txt: {current_date.isoformat()}\")"
   ]
  },
  {
   "cell_type": "markdown",
   "id": "c8e183ae-5a90-47ac-80b2-0d7e84db2638",
   "metadata": {},
   "source": [
    "This code reads the content of the today.txt file and stores it in a string variable named today_string"
   ]
  },
  {
   "cell_type": "code",
   "execution_count": 3,
   "id": "e3dff805-4d16-4e0a-9f22-bf4703adc48b",
   "metadata": {},
   "outputs": [
    {
     "name": "stdout",
     "output_type": "stream",
     "text": [
      "Date read from file: 2024-11-24\n"
     ]
    }
   ],
   "source": [
    "# Read the date from the file\n",
    "with open(\"today.txt\", \"r\") as file:\n",
    "    today_string = file.read()\n",
    "\n",
    "print(f\"Date read from file: {today_string}\")"
   ]
  },
  {
   "cell_type": "markdown",
   "id": "b5dfdd61-671e-49db-814d-1aea2fd1e6e6",
   "metadata": {},
   "source": [
    "This code parses the string today_string back into a date object using datetime.strptime."
   ]
  },
  {
   "cell_type": "code",
   "execution_count": 5,
   "id": "c3703ef1-d919-43fb-b2e5-13a60071060d",
   "metadata": {},
   "outputs": [
    {
     "name": "stdout",
     "output_type": "stream",
     "text": [
      "Parsed date: 2024-11-24\n"
     ]
    }
   ],
   "source": [
    "from datetime import datetime\n",
    "\n",
    "# Parse the string back into a date object\n",
    "parsed_date = datetime.strptime(today_string, \"%Y-%m-%d\").date()\n",
    "\n",
    "print(f\"Parsed date: {parsed_date}\")"
   ]
  }
 ],
 "metadata": {
  "kernelspec": {
   "display_name": "Python 3 (ipykernel)",
   "language": "python",
   "name": "python3"
  },
  "language_info": {
   "codemirror_mode": {
    "name": "ipython",
    "version": 3
   },
   "file_extension": ".py",
   "mimetype": "text/x-python",
   "name": "python",
   "nbconvert_exporter": "python",
   "pygments_lexer": "ipython3",
   "version": "3.12.7"
  }
 },
 "nbformat": 4,
 "nbformat_minor": 5
}
